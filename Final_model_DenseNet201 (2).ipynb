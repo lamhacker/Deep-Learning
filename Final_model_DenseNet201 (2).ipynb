{
  "nbformat": 4,
  "nbformat_minor": 0,
  "metadata": {
    "colab": {
      "name": "Final_model_DenseNet201.ipynb",
      "provenance": [],
      "collapsed_sections": []
    },
    "language_info": {
      "codemirror_mode": {
        "name": "ipython",
        "version": 3
      },
      "file_extension": ".py",
      "mimetype": "text/x-python",
      "name": "python",
      "nbconvert_exporter": "python",
      "pygments_lexer": "ipython3",
      "version": "3.7.3"
    },
    "kernelspec": {
      "display_name": "Python 3",
      "language": "python",
      "name": "python3"
    }
  },
  "cells": [
    {
      "cell_type": "code",
      "metadata": {
        "colab_type": "code",
        "id": "aHsZEhMEL3rx",
        "colab": {}
      },
      "source": [
        "# Native Python Library\n",
        "from __future__ import absolute_import, division, print_function, unicode_literals\n",
        "import os\n",
        "import numpy as np\n",
        "from PIL import Image\n",
        "import pandas as pd\n",
        "import math\n",
        "import scipy.misc\n",
        "import tensorflow as tf\n",
        "import imageio\n",
        "from scipy import misc\n",
        "import cv2\n",
        "import matplotlib.pyplot as plt\n",
        "import tensorflow as tf\n",
        "import time\n",
        "from sklearn import preprocessing\n",
        "from sklearn.model_selection import train_test_split\n",
        "from tensorflow.keras import datasets, layers, models\n",
        "from sklearn.preprocessing import MultiLabelBinarizer\n",
        "from tensorflow.keras.models import load_model\n",
        "from tensorflow.keras.models import Model,Sequential\n",
        "from tensorflow.keras.optimizers import SGD\n",
        "from tensorflow.keras.models import Sequential\n",
        "from tensorflow.keras.applications.inception_v3 import InceptionV3\n",
        "from tensorflow.keras.applications.resnet50 import ResNet50\n",
        "from tensorflow.keras.applications.densenet import DenseNet201\n",
        "from tensorflow.keras.applications.nasnet import NASNetLarge\n",
        "from tensorflow.keras.applications.inception_v3 import preprocess_input\n",
        "from tensorflow.keras.preprocessing.image import ImageDataGenerator\n",
        "from tensorflow.keras.layers import Conv2D, MaxPooling2D, Activation,Dense, Dropout, Flatten, BatchNormalization, Input,GlobalAveragePooling2D\n",
        "import ssl\n",
        "if (not os.environ.get('PYTHONHTTPSVERIFY', '') and\n",
        "    getattr(ssl, '_create_unverified_context', None)): \n",
        "    ssl._create_default_https_context = ssl._create_unverified_context   \n",
        "config = tf.ConfigProto(allow_soft_placement = True)\n",
        "sess = tf.Session(config=config) \n",
        "tf.keras.backend.set_session(sess)"
      ],
      "execution_count": 0,
      "outputs": []
    },
    {
      "cell_type": "code",
      "metadata": {
        "colab_type": "code",
        "id": "ho7SIuVuL3r1",
        "colab": {}
      },
      "source": [
        "#configuration \n",
        "IMAGE_H = 299\n",
        "IMAGE_W = 299\n",
        "batch_size = 128"
      ],
      "execution_count": 0,
      "outputs": []
    },
    {
      "cell_type": "code",
      "metadata": {
        "colab_type": "code",
        "id": "DK2UnFQpL3r3",
        "colab": {}
      },
      "source": [
        "train_data_file_path = \"/root/deeplearning/train2014\"\n",
        "label_data_file_path = \"/root/deeplearning\""
      ],
      "execution_count": 0,
      "outputs": []
    },
    {
      "cell_type": "markdown",
      "metadata": {
        "id": "claAMAXS6ePs",
        "colab_type": "text"
      },
      "source": [
        "# Load the train data and resize them to 299*299"
      ]
    },
    {
      "cell_type": "code",
      "metadata": {
        "colab_type": "code",
        "id": "_jZf_JPmL3r6",
        "outputId": "4a15bf4a-28ed-40f0-bd24-f5a7aac8334c",
        "colab": {}
      },
      "source": [
        "# load all the image file into numpy array may take 2minutes according to image size (148sec for size 224*224)\n",
        "import time\n",
        "start = time. time()\n",
        "\n",
        "os.chdir(train_data_file_path)\n",
        "train_file_list = os.listdir(train_data_file_path)\n",
        "# load the train data\n",
        "train_data = np.array([np.array(cv2.resize( cv2.imread(filename), (IMAGE_H,IMAGE_W))) for filename in train_file_list])\n",
        "train_data_file_name = pd.DataFrame(np.array([filename for filename in train_file_list]))\n",
        "train_data_file_name.columns = ['filename']\n",
        "\n",
        "end = time. time()\n",
        "print(end - start)"
      ],
      "execution_count": 0,
      "outputs": [
        {
          "output_type": "stream",
          "text": [
            "230.35574626922607\n"
          ],
          "name": "stdout"
        }
      ]
    },
    {
      "cell_type": "markdown",
      "metadata": {
        "id": "V-r5FVo_6ePx",
        "colab_type": "text"
      },
      "source": [
        "# Load the test data and resize them to 299*299"
      ]
    },
    {
      "cell_type": "code",
      "metadata": {
        "id": "KAM362an6ePy",
        "colab_type": "code",
        "colab": {}
      },
      "source": [
        "valid_data_file_path = \"/root/deeplearning/val2014\"\n",
        "os.chdir(valid_data_file_path)\n",
        "valid_file_list = os.listdir(valid_data_file_path)\n",
        "valid_data =  np.array([np.array(cv2.resize( cv2.imread(filename), (IMAGE_H,IMAGE_W))) for filename in valid_file_list])\n",
        "valid_data_file_name = pd.DataFrame(np.array([filename for filename in os.listdir(valid_data_file_path)]))\n",
        "valid_data_file_name.columns = ['filename']"
      ],
      "execution_count": 0,
      "outputs": []
    },
    {
      "cell_type": "markdown",
      "metadata": {
        "id": "Ytw-WSR_6eP1",
        "colab_type": "text"
      },
      "source": [
        "# Load the train label"
      ]
    },
    {
      "cell_type": "code",
      "metadata": {
        "colab_type": "code",
        "id": "5GcZzmnrL3r9",
        "colab": {}
      },
      "source": [
        "# Read all train label from local devices\n",
        "os.chdir(label_data_file_path)\n",
        "train_label_file =  pd.read_csv(label_data_file_path + '/train.txt', sep='\\t', names=['filename','label'])\n",
        "train_label = pd.merge(train_data_file_name, train_label_file,on='filename')[['label']]\n",
        "train_label = np.array(train_label).T[0]\n"
      ],
      "execution_count": 0,
      "outputs": []
    },
    {
      "cell_type": "code",
      "metadata": {
        "colab_type": "code",
        "id": "y357Ge_qL3r_",
        "scrolled": true,
        "colab": {}
      },
      "source": [
        "#process data using one hot \n",
        "duplicate_train_label = train_label\n",
        "label_list = np.ndarray.tolist(duplicate_train_label)\n",
        "\n",
        "result_set = []\n",
        "for item in label_list:\n",
        "    if item.find(\",\")!=-1:\n",
        "        array = item.split(\",\")\n",
        "        item = set(array)\n",
        "        result_set.append(item)\n",
        "    else:     \n",
        "        item = {item}\n",
        "        result_set.append(item)\n",
        "        \n",
        "real_label = np.zeros((len(result_set),20))\n",
        "for i in range(real_label.shape[0]):\n",
        "    for d in result_set[i]:\n",
        "        real_label[i][int(d)] = 1\n",
        "\n",
        "#Split data using train_test_split\n",
        "X_train, X_test, Y_train, Y_test = train_test_split(train_data,real_label,test_size=0.2, random_state=42)"
      ],
      "execution_count": 0,
      "outputs": []
    },
    {
      "cell_type": "markdown",
      "metadata": {
        "id": "JYkzo_Hg6eP7",
        "colab_type": "text"
      },
      "source": [
        "# DenseNet201 model"
      ]
    },
    {
      "cell_type": "code",
      "metadata": {
        "colab_type": "code",
        "id": "uYG2FfsDL3sE",
        "colab": {}
      },
      "source": [
        "# use pretrained model resnet50 and add several fully connected layer\n",
        "input_shape = (IMAGE_H, IMAGE_W, 3)\n",
        "inputs = Input(shape=input_shape)\n",
        "pretrained_model = DenseNet201(include_top=False,\n",
        "                      weights='imagenet',\n",
        "                      input_shape=input_shape\n",
        "                      )\n",
        "x = pretrained_model(inputs)\n",
        "\n",
        "x = GlobalAveragePooling2D()(x)\n",
        "x = Flatten()(x)\n",
        "\n",
        "x = Dense(512, activation='relu')(x)\n",
        "x = Dense(256, activation='relu')(x)\n",
        "\n",
        "outputs = Dense(20, activation='sigmoid')(x)\n",
        "model = Model(inputs, outputs)\n",
        "model.layers[1].trainable = False\n",
        "model.compile(optimizer='Adam', loss='binary_crossentropy', metrics=['accuracy'])"
      ],
      "execution_count": 0,
      "outputs": []
    },
    {
      "cell_type": "markdown",
      "metadata": {
        "id": "QFcl5aCX6eP-",
        "colab_type": "text"
      },
      "source": [
        "# Train 80% data, test 20%"
      ]
    },
    {
      "cell_type": "code",
      "metadata": {
        "colab_type": "code",
        "id": "Qh9BAYPFL3sH",
        "outputId": "14f5bdeb-7b71-4e8c-8bf8-ac8c54afb5ff",
        "scrolled": true,
        "colab": {
          "base_uri": "https://localhost:8080/",
          "height": 343
        }
      },
      "source": [
        "# save the accuracy and loss for each epoch\n",
        "val_acc = []\n",
        "val_loss = []\n",
        "# train with 8 epochs\n",
        "for j in range(0,8):\n",
        "    history = model.fit(X_train, Y_train,\n",
        "            batch_size=batch_size,\n",
        "            epochs=1,\n",
        "            verbose=1,\n",
        "            validation_data=(X_test, Y_test))\n",
        "    y_predict = model.predict(X_test)\n",
        "    top_1 = np.array([np.argmax(i) for i in y_predict])\n",
        "    count = 0\n",
        "    for i in range(len(top_1)):\n",
        "        if Y_test[i,top_1[i]] == 1:\n",
        "            count += 1\n",
        "    print(count/len(top_1))\n",
        "    val_acc.append(count/len(top_1))\n",
        "    val_loss.append(history.history['val_loss'])"
      ],
      "execution_count": 0,
      "outputs": [
        {
          "output_type": "stream",
          "text": [
            "Train on 25540 samples, validate on 6385 samples\n",
            "25540/25540 [==============================] - 206s 8ms/sample - loss: 0.1433 - acc: 0.9487 - val_loss: 0.1152 - val_acc: 0.9568\n",
            "0.6867658574784652\n",
            "Train on 25540 samples, validate on 6385 samples\n",
            "25540/25540 [==============================] - 193s 8ms/sample - loss: 0.1082 - acc: 0.9596 - val_loss: 0.1078 - val_acc: 0.9600\n",
            "0.7158966327329679\n",
            "Train on 25540 samples, validate on 6385 samples\n",
            "25540/25540 [==============================] - 193s 8ms/sample - loss: 0.1012 - acc: 0.9620 - val_loss: 0.1065 - val_acc: 0.9602\n",
            "0.7201252936570086\n",
            "Train on 25540 samples, validate on 6385 samples\n",
            "25540/25540 [==============================] - 193s 8ms/sample - loss: 0.0965 - acc: 0.9636 - val_loss: 0.1054 - val_acc: 0.9607\n",
            "0.7194988253719655\n",
            "Train on 25540 samples, validate on 6385 samples\n",
            "25540/25540 [==============================] - 193s 8ms/sample - loss: 0.0925 - acc: 0.9648 - val_loss: 0.1065 - val_acc: 0.9608\n",
            "0.7215348472983555\n",
            "Train on 25540 samples, validate on 6385 samples\n",
            "25540/25540 [==============================] - 193s 8ms/sample - loss: 0.0902 - acc: 0.9657 - val_loss: 0.1072 - val_acc: 0.9603\n",
            "0.7213782302270948\n",
            "Train on 25540 samples, validate on 6385 samples\n",
            "25540/25540 [==============================] - 193s 8ms/sample - loss: 0.0870 - acc: 0.9668 - val_loss: 0.1079 - val_acc: 0.9606\n",
            "0.727956147220047\n",
            "Train on 25540 samples, validate on 6385 samples\n",
            "25540/25540 [==============================] - 193s 8ms/sample - loss: 0.0833 - acc: 0.9679 - val_loss: 0.1050 - val_acc: 0.9615\n",
            "0.7340642129992169\n"
          ],
          "name": "stdout"
        }
      ]
    },
    {
      "cell_type": "markdown",
      "metadata": {
        "id": "-0Luq-PC6eQF",
        "colab_type": "text"
      },
      "source": [
        "# Train the entire dataset"
      ]
    },
    {
      "cell_type": "code",
      "metadata": {
        "id": "EnPpGHg26eQI",
        "colab_type": "code",
        "outputId": "ac26e68a-7c58-4a3e-9fee-9ce3810367c5",
        "colab": {}
      },
      "source": [
        "\n",
        "# train with 8 epochs by entire train set\n",
        "for j in range(0,8):\n",
        "    history = model.fit(train_data, real_label,\n",
        "            batch_size=batch_size,\n",
        "            epochs=1,\n",
        "            verbose=1,\n",
        "            validation_data=(X_test, Y_test))\n",
        "    "
      ],
      "execution_count": 0,
      "outputs": [
        {
          "output_type": "stream",
          "text": [
            "Train on 31925 samples, validate on 6385 samples\n",
            "31925/31925 [==============================] - 245s 8ms/sample - loss: 0.1381 - acc: 0.9503 - val_loss: 0.1085 - val_acc: 0.9597\n",
            "Train on 31925 samples, validate on 6385 samples\n",
            "31925/31925 [==============================] - 232s 7ms/sample - loss: 0.1069 - acc: 0.9602 - val_loss: 0.1020 - val_acc: 0.9615\n",
            "Train on 31925 samples, validate on 6385 samples\n",
            "31925/31925 [==============================] - 232s 7ms/sample - loss: 0.1009 - acc: 0.9621 - val_loss: 0.0945 - val_acc: 0.9641\n",
            "Train on 31925 samples, validate on 6385 samples\n",
            "31925/31925 [==============================] - 232s 7ms/sample - loss: 0.0963 - acc: 0.9637 - val_loss: 0.0953 - val_acc: 0.9641\n",
            "Train on 31925 samples, validate on 6385 samples\n",
            "31925/31925 [==============================] - 232s 7ms/sample - loss: 0.0936 - acc: 0.9645 - val_loss: 0.0890 - val_acc: 0.9660\n",
            "Train on 31925 samples, validate on 6385 samples\n",
            "31925/31925 [==============================] - 232s 7ms/sample - loss: 0.0905 - acc: 0.9654 - val_loss: 0.0880 - val_acc: 0.9664\n",
            "Train on 31925 samples, validate on 6385 samples\n",
            "31925/31925 [==============================] - 232s 7ms/sample - loss: 0.0870 - acc: 0.9669 - val_loss: 0.0805 - val_acc: 0.9695\n",
            "Train on 31925 samples, validate on 6385 samples\n",
            "31925/31925 [==============================] - 232s 7ms/sample - loss: 0.0835 - acc: 0.9681 - val_loss: 0.0787 - val_acc: 0.9690\n"
          ],
          "name": "stdout"
        }
      ]
    },
    {
      "cell_type": "code",
      "metadata": {
        "id": "2OXqGjXr6eQO",
        "colab_type": "code",
        "colab": {}
      },
      "source": [
        "model.save('final_model_densenet201.h5')"
      ],
      "execution_count": 0,
      "outputs": []
    },
    {
      "cell_type": "code",
      "metadata": {
        "id": "BwgGZ4tn6eQS",
        "colab_type": "code",
        "colab": {}
      },
      "source": [
        "x_predict = model.predict(valid_data)\n"
      ],
      "execution_count": 0,
      "outputs": []
    },
    {
      "cell_type": "code",
      "metadata": {
        "id": "Cn-rpyp26eQV",
        "colab_type": "code",
        "colab": {}
      },
      "source": [
        "import sys\n",
        "file = open('final_2.txt','w')\n",
        "for i in range(0, valid_data.shape[0]):\n",
        "    file.write(valid_data_file_name['filename'][i]+\"\\t\")\n",
        "    file.write(str(np.argmax(x_predict[i])) + '\\n')"
      ],
      "execution_count": 0,
      "outputs": []
    },
    {
      "cell_type": "markdown",
      "metadata": {
        "id": "qOyLGB2a6eQY",
        "colab_type": "text"
      },
      "source": [
        "# Plot the accuracy and loss graph"
      ]
    },
    {
      "cell_type": "code",
      "metadata": {
        "id": "Ms4WMmzC6eQY",
        "colab_type": "code",
        "outputId": "fae42b08-de79-4bdd-816a-d2d2b4df13d0",
        "colab": {}
      },
      "source": [
        "plt.plot(val_acc)\n",
        "plt.plot(val_loss)\n",
        "plt.title('model accuracy vs loss')\n",
        "plt.ylabel('accuracy')\n",
        "plt.xlabel('epoch')\n",
        "plt.legend(['accuracy', 'val_loss'], loc='upper left')\n",
        "plt.show()"
      ],
      "execution_count": 0,
      "outputs": [
        {
          "output_type": "display_data",
          "data": {
            "image/png": "[encoded data removed]",
            "text/plain": [
              "<Figure size 432x288 with 1 Axes>"
            ]
          },
          "metadata": {
            "tags": [],
            "needs_background": "light"
          }
        }
      ]
    },
    {
      "cell_type": "code",
      "metadata": {
        "id": "6ggC2Yax6eQb",
        "colab_type": "code",
        "colab": {}
      },
      "source": [
        ""
      ],
      "execution_count": 0,
      "outputs": []
    }
  ]
}